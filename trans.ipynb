{
 "cells": [
  {
   "cell_type": "code",
   "execution_count": 42,
   "metadata": {},
   "outputs": [],
   "source": [
    "#!/usr/bin/env python\n",
    "# coding: utf-8\n",
    "\n",
    "# In[12]:\n",
    "\n",
    "\n",
    "import cv2\n",
    "import math\n",
    "\n",
    "#img = cv2.imread(\"pas_grey.jpg\")\n",
    "img = cv2.imread(\"pexel.jpg\")\n",
    "#cv2.imshow('image',img)\n",
    "#cv2.waitKey()\n",
    "#cv2.destroyAllWindows()\n",
    "\n",
    "height, width, channels = img.shape\n",
    "max_pixel_value = max_pixel(img)\n",
    "\n",
    "for i in range(height):\n",
    "    for j in range(width):\n",
    "        for k in range(channels):\n",
    "            #new_col = 255 - img[i][j][k]\n",
    "            #new_col = log_transform(img[i][j][k], max_pixel_value)\n",
    "            new_col = powertrans(255, 0.4, img[i][j][k])\n",
    "            img[i][j][k] = new_col\n",
    "\n",
    "cv2.imshow('image',img)\n",
    "cv2.waitKey()\n",
    "cv2.destroyAllWindows()\n",
    "\n",
    "\n"
   ]
  },
  {
   "cell_type": "code",
   "execution_count": 41,
   "metadata": {},
   "outputs": [],
   "source": [
    "# In[5]:\n",
    "\n",
    "\n",
    "def log_transform(col, max_pixel_value):\n",
    "    c = 255/(math.log(1+max_pixel_value))\n",
    "    new_col = c * math.log(1+col)\n",
    "    return new_col\n",
    "\n",
    "\n"
   ]
  },
  {
   "cell_type": "code",
   "execution_count": 40,
   "metadata": {},
   "outputs": [],
   "source": [
    "# In[10]:\n",
    "\n",
    "\n",
    "def max_pixel(img):\n",
    "    max_pixel = 0\n",
    "    height, width, channels = img.shape\n",
    "    \n",
    "    for i in range(height):\n",
    "        for j in range(width):\n",
    "            for k in range(channels):\n",
    "                if(max_pixel < img[i][j][k]):\n",
    "                    max_pixel = img[i][j][k]\n",
    "    \n",
    "    return max_pixel\n",
    "\n",
    "\n"
   ]
  },
  {
   "cell_type": "code",
   "execution_count": 39,
   "metadata": {},
   "outputs": [],
   "source": [
    "# In[9]:\n",
    "\n",
    "\n",
    "def powertrans(c, gamma, r):\n",
    "    #  = C*r^gamma\n",
    "    new_col = c*((r/c)**gamma)\n",
    "    return new_col\n",
    "    \n",
    "\n",
    "\n",
    "# In[ ]:\n",
    "\n"
   ]
  },
  {
   "cell_type": "code",
   "execution_count": null,
   "metadata": {},
   "outputs": [],
   "source": []
  },
  {
   "cell_type": "code",
   "execution_count": null,
   "metadata": {},
   "outputs": [],
   "source": []
  }
 ],
 "metadata": {
  "kernelspec": {
   "display_name": "Python 3",
   "language": "python",
   "name": "python3"
  },
  "language_info": {
   "codemirror_mode": {
    "name": "ipython",
    "version": 3
   },
   "file_extension": ".py",
   "mimetype": "text/x-python",
   "name": "python",
   "nbconvert_exporter": "python",
   "pygments_lexer": "ipython3",
   "version": "3.8.5"
  }
 },
 "nbformat": 4,
 "nbformat_minor": 4
}
